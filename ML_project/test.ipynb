{
 "cells": [
  {
   "cell_type": "code",
   "execution_count": 2,
   "metadata": {},
   "outputs": [],
   "source": [
    "import tensorflow as tf\n",
    "tf.set_random_seed(777)  # for reproducibility\n",
    "\n",
    "x_data = [[1, 2],\n",
    "          [2, 3],\n",
    "          [3, 1],\n",
    "          [4, 3],\n",
    "          [5, 3],\n",
    "          [6, 2]]\n",
    "y_data = [[0],\n",
    "          [0],\n",
    "          [0],\n",
    "          [1],\n",
    "          [1],\n",
    "          [1]]"
   ]
  },
  {
   "cell_type": "code",
   "execution_count": 3,
   "metadata": {},
   "outputs": [],
   "source": [
    "X = tf.placeholder(tf.float32, shape=[None, 2])\n",
    "Y = tf.placeholder(tf.float32, shape=[None, 1])\n",
    "\n",
    "W = tf.Variable(tf.random_normal([2, 1]), name='weight')\n",
    "b = tf.Variable(tf.random_normal([1]), name='bias')\n",
    "\n",
    "# Hypothesis using sigmoid: tf.div(1., 1. + tf.exp(tf.matmul(X, W)))\n",
    "hypothesis = tf.sigmoid(tf.matmul(X, W) + b)\n",
    "\n",
    "# cost/loss function\n",
    "cost = -tf.reduce_mean(Y * tf.log(hypothesis) + (1 - Y) *\n",
    "                       tf.log(1 - hypothesis))\n",
    "\n",
    "train = tf.train.GradientDescentOptimizer(learning_rate=0.01).minimize(cost)"
   ]
  },
  {
   "cell_type": "code",
   "execution_count": 4,
   "metadata": {},
   "outputs": [],
   "source": [
    "predicted = tf.cast(hypothesis > 0.5, dtype=tf.float32)\n",
    "accuracy = tf.reduce_mean(tf.cast(tf.equal(predicted, Y), dtype=tf.float32))"
   ]
  },
  {
   "cell_type": "code",
   "execution_count": 5,
   "metadata": {},
   "outputs": [
    {
     "name": "stdout",
     "output_type": "stream",
     "text": [
      "0 1.5079803\n",
      "200 0.3676095\n",
      "400 0.3527939\n",
      "600 0.34054205\n",
      "800 0.32940093\n",
      "1000 0.3191423\n",
      "1200 0.309602\n",
      "1400 0.30066207\n",
      "1600 0.2922383\n",
      "1800 0.28426877\n",
      "2000 0.2767068\n",
      "2200 0.2695162\n",
      "2400 0.2626675\n",
      "2600 0.25613597\n",
      "2800 0.24990028\n",
      "3000 0.24394138\n",
      "3200 0.23824249\n",
      "3400 0.23278804\n",
      "3600 0.22756386\n",
      "3800 0.22255677\n",
      "4000 0.21775454\n",
      "4200 0.21314593\n",
      "4400 0.20872033\n",
      "4600 0.20446783\n",
      "4800 0.20037915\n",
      "5000 0.19644572\n",
      "5200 0.19265936\n",
      "5400 0.18901253\n",
      "5600 0.18549804\n",
      "5800 0.1821093\n",
      "6000 0.17883992\n",
      "6200 0.17568415\n",
      "6400 0.1726364\n",
      "6600 0.16969144\n",
      "6800 0.16684441\n",
      "7000 0.16409071\n",
      "7200 0.16142601\n",
      "7400 0.15884613\n",
      "7600 0.15634735\n",
      "7800 0.1539259\n",
      "8000 0.15157853\n",
      "8200 0.14930183\n",
      "8400 0.14709276\n",
      "8600 0.14494853\n",
      "8800 0.1428663\n",
      "9000 0.14084356\n",
      "9200 0.1388777\n",
      "9400 0.1369666\n",
      "9600 0.13510786\n",
      "9800 0.13329959\n",
      "10000 0.1315396\n",
      "\n",
      "Hypothesis:  [[0.02356477]\n",
      " [0.14780492]\n",
      " [0.268441  ]\n",
      " [0.798558  ]\n",
      " [0.94988024]\n",
      " [0.98368007]] \n",
      "Correct (Y):  [[0.]\n",
      " [0.]\n",
      " [0.]\n",
      " [1.]\n",
      " [1.]\n",
      " [1.]] \n",
      "Accuracy:  1.0\n"
     ]
    }
   ],
   "source": [
    "with tf.Session() as sess:\n",
    "    # Initialize TensorFlow variables\n",
    "    sess.run(tf.global_variables_initializer())\n",
    "\n",
    "    for step in range(10001):\n",
    "        cost_val, _ = sess.run([cost, train], feed_dict={X: x_data, Y: y_data})\n",
    "        if step % 200 == 0:\n",
    "            print(step, cost_val)\n",
    "\n",
    "    # Accuracy report\n",
    "    h, c, a = sess.run([hypothesis, predicted, accuracy],\n",
    "                       feed_dict={X: x_data, Y: y_data})\n",
    "    print(\"\\nHypothesis: \", h, \"\\nCorrect (Y): \", c, \"\\nAccuracy: \", a)"
   ]
  },
  {
   "cell_type": "code",
   "execution_count": null,
   "metadata": {},
   "outputs": [],
   "source": []
  }
 ],
 "metadata": {
  "kernelspec": {
   "display_name": "Python 3",
   "language": "python",
   "name": "python3"
  },
  "language_info": {
   "codemirror_mode": {
    "name": "ipython",
    "version": 3
   },
   "file_extension": ".py",
   "mimetype": "text/x-python",
   "name": "python",
   "nbconvert_exporter": "python",
   "pygments_lexer": "ipython3",
   "version": "3.6.6"
  }
 },
 "nbformat": 4,
 "nbformat_minor": 2
}
