{
 "cells": [
  {
   "cell_type": "code",
   "execution_count": 8,
   "metadata": {},
   "outputs": [
    {
     "name": "stdout",
     "output_type": "stream",
     "text": [
      "0 74.666664 5.0\n",
      "1 21.238516 3.1333332\n",
      "2 6.041179 2.1377778\n",
      "3 1.71838 1.6068149\n",
      "4 0.48878372 1.3236346\n",
      "5 0.1390319 1.1726052\n",
      "6 0.0395468 1.092056\n",
      "7 0.011248882 1.0490966\n",
      "8 0.0031996702 1.0261848\n",
      "9 0.0009101348 1.0139652\n",
      "10 0.0002588762 1.0074481\n",
      "11 7.363582e-05 1.0039723\n",
      "12 2.0945927e-05 1.0021186\n",
      "13 5.95745e-06 1.0011299\n",
      "14 1.6944645e-06 1.0006026\n",
      "15 4.820219e-07 1.0003214\n",
      "16 1.3713388e-07 1.0001714\n",
      "17 3.8991956e-08 1.0000914\n",
      "18 1.1105257e-08 1.0000488\n",
      "19 3.1516645e-09 1.000026\n",
      "20 8.923659e-10 1.0000138\n"
     ]
    }
   ],
   "source": [
    "import tensorflow as tf\n",
    "x_train = [1,2,3]\n",
    "y_train = [1,2,3]\n",
    "\n",
    "W = tf.Variable(5.0)\n",
    "X = tf.placeholder(tf.float32)\n",
    "Y = tf.placeholder(tf.float32)\n",
    "\n",
    "hypothesis = X * W\n",
    "\n",
    "cost = tf.reduce_mean(tf.square(hypothesis-Y))\n",
    "\n",
    "learning_rate = 0.1\n",
    "gradient = tf.reduce_mean((W*X-Y)*X)\n",
    "descent = W - learning_rate*gradient\n",
    "update = W.assign(descent)\n",
    "\n",
    "sess = tf.Session()\n",
    "sess.run(tf.global_variables_initializer())\n",
    "\n",
    "for i in range(0,21):\n",
    "    \n",
    "    print(i,  sess.run(cost,feed_dict={X: x_train, Y: y_train}),sess.run(W))\n",
    "    sess.run(update, feed_dict={X: x_train, Y: y_train})"
   ]
  },
  {
   "cell_type": "code",
   "execution_count": null,
   "metadata": {},
   "outputs": [],
   "source": []
  }
 ],
 "metadata": {
  "kernelspec": {
   "display_name": "Python 3",
   "language": "python",
   "name": "python3"
  },
  "language_info": {
   "codemirror_mode": {
    "name": "ipython",
    "version": 3
   },
   "file_extension": ".py",
   "mimetype": "text/x-python",
   "name": "python",
   "nbconvert_exporter": "python",
   "pygments_lexer": "ipython3",
   "version": "3.5.4"
  }
 },
 "nbformat": 4,
 "nbformat_minor": 2
}
